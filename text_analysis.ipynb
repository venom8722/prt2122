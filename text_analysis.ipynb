{
  "nbformat": 4,
  "nbformat_minor": 0,
  "metadata": {
    "colab": {
      "provenance": []
    },
    "kernelspec": {
      "name": "python3",
      "display_name": "Python 3"
    },
    "language_info": {
      "name": "python"
    }
  },
  "cells": [
    {
      "cell_type": "code",
      "execution_count": null,
      "metadata": {
        "colab": {
          "base_uri": "https://localhost:8080/"
        },
        "id": "EFpwdiXfTgtB",
        "outputId": "0c9eb3a4-7332-4b25-da09-bc3f76e8f43f"
      },
      "outputs": [
        {
          "output_type": "stream",
          "name": "stdout",
          "text": [
            "✅ Accuracy: 0.9919282511210762\n",
            "\n",
            "📋 Classification Report:\n",
            "               precision    recall  f1-score   support\n",
            "\n",
            "           0       0.99      1.00      1.00       966\n",
            "           1       1.00      0.94      0.97       149\n",
            "\n",
            "    accuracy                           0.99      1115\n",
            "   macro avg       1.00      0.97      0.98      1115\n",
            "weighted avg       0.99      0.99      0.99      1115\n",
            "\n",
            "\n",
            "📨 Message: Congratulations! You won $1000. Call now!\n",
            "Prediction: 📢 SPAM\n",
            "\n",
            "📨 Message: Hey, can we meet at 6pm today?\n",
            "Prediction: ✅ HAM (not spam)\n"
          ]
        }
      ],
      "source": [
        "# 📦 Import Libraries\n",
        "import pandas as pd\n",
        "from sklearn.model_selection import train_test_split\n",
        "from sklearn.feature_extraction.text import CountVectorizer\n",
        "from sklearn.naive_bayes import MultinomialNB\n",
        "from sklearn.metrics import accuracy_score, classification_report\n",
        "\n",
        "# 📥 Load Dataset\n",
        "url = \"https://raw.githubusercontent.com/justmarkham/pycon-2016-tutorial/master/data/sms.tsv\"\n",
        "df = pd.read_csv(url, sep='\\t', header=None, names=['label', 'message'])\n",
        "\n",
        "# 🔁 Encode labels: ham=0, spam=1\n",
        "df['label_num'] = df['label'].map({'ham': 0, 'spam': 1})\n",
        "\n",
        "# 🧪 Train-test split\n",
        "X_train, X_test, y_train, y_test = train_test_split(df['message'], df['label_num'], test_size=0.2, random_state=42)\n",
        "\n",
        "# ✍️ Convert text to vectors\n",
        "vectorizer = CountVectorizer()\n",
        "X_train_vec = vectorizer.fit_transform(X_train)\n",
        "X_test_vec = vectorizer.transform(X_test)\n",
        "\n",
        "# 🧠 Train model\n",
        "model = MultinomialNB()\n",
        "model.fit(X_train_vec, y_train)\n",
        "\n",
        "# 📊 Evaluate\n",
        "y_pred = model.predict(X_test_vec)\n",
        "print(\"✅ Accuracy:\", accuracy_score(y_test, y_pred))\n",
        "print(\"\\n📋 Classification Report:\\n\", classification_report(y_test, y_pred))\n",
        "\n",
        "# 🧪 Try your own messages\n",
        "custom_msgs = [\"Congratulations! You won $1000. Call now!\", \"Hey, can we meet at 6pm today?\"]\n",
        "custom_vec = vectorizer.transform(custom_msgs)\n",
        "predictions = model.predict(custom_vec)\n",
        "\n",
        "# 🧾 Print results\n",
        "for msg, label in zip(custom_msgs, predictions):\n",
        "    print(f\"\\n📨 Message: {msg}\")\n",
        "    print(\"Prediction:\", \"📢 SPAM\" if label == 1 else \"✅ HAM (not spam)\")\n"
      ]
    },
    {
      "cell_type": "code",
      "source": [],
      "metadata": {
        "id": "tnaDYmTsTk8j"
      },
      "execution_count": null,
      "outputs": []
    }
  ]
}